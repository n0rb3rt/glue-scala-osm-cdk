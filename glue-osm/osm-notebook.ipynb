{
 "cells": [
  {
   "cell_type": "code",
   "execution_count": 6,
   "id": "fbd992db",
   "metadata": {},
   "outputs": [
    {
     "name": "stdout",
     "output_type": "stream",
     "text": [
      "Welcome to the Glue Interactive Sessions Kernel\n",
      "For more information on available magic commands, please type %help in any new cell.\n",
      "\n",
      "Please view our Getting Started page to access the most up-to-date information on the Interactive Sessions kernel: https://docs.aws.amazon.com/glue/latest/dg/interactive-sessions.html\n",
      "It looks like there is a newer version of the kernel available. The latest version is 0.37.4 and you have 0.37.2 installed.\n",
      "Please run `pip install --upgrade aws-glue-sessions` to upgrade your kernel\n",
      "Previous region: None\n",
      "Setting new region to: us-east-2\n",
      "Region is set to: us-east-2\n",
      "Setting Glue version to: 3.0\n",
      "Previous number of workers: 5\n",
      "Setting new number of workers to: 10\n",
      "Previous worker type: G.1X\n",
      "Setting new worker type to: G.2X\n",
      "Extra jars to be included:\n",
      "s3://sftp-pipeline-bucket/lib/geomesa-fs-spark-runtime_2.12-3.5.0.jar\n",
      "s3://sftp-pipeline-bucket/lib/geomesa-fs-spark-runtime_2.12-3.5.0.jar\n"
     ]
    }
   ],
   "source": [
    "%region us-east-2\n",
    "%glue_version \"3.0\"\n",
    "%number_of_workers 10\n",
    "%worker_type \"G.2X\"\n",
    "%extra_jars s3://sftp-pipeline-bucket/lib/geomesa-fs-spark-runtime_2.12-3.5.0.jar"
   ]
  },
  {
   "cell_type": "code",
   "execution_count": 8,
   "id": "758396dd",
   "metadata": {},
   "outputs": [
    {
     "name": "stdout",
     "output_type": "stream",
     "text": [
      "The following configurations have been updated: {'--conf': 'spark.serializer=org.apache.spark.serializer.KryoSerializer --conf spark.kryo.registrator=org.locationtech.geomesa.spark.GeoMesaSparkKryoRegistrator', '--enable-spark-ui': 'true', '--spark-event-logs-path': 's3://sftp-pipeline-clean/sparkLogs'}\n"
     ]
    }
   ],
   "source": [
    "%%configure\n",
    "{\n",
    "    \"--conf\": \"spark.serializer=org.apache.spark.serializer.KryoSerializer --conf spark.kryo.registrator=org.locationtech.geomesa.spark.GeoMesaSparkKryoRegistrator\",\n",
    "    \"--enable-spark-ui\": \"true\",\n",
    "    \"--spark-event-logs-path\": \"s3://sftp-pipeline-clean/sparkLogs\"\n",
    "}"
   ]
  },
  {
   "cell_type": "code",
   "execution_count": 1,
   "id": "a39a4c80",
   "metadata": {},
   "outputs": [
    {
     "name": "stdout",
     "output_type": "stream",
     "text": [
      "Authenticating with profile=default\n",
      "glue_role_arn retrieved from profile: arn:aws:iam::121891376456:role/sftp-pipeline-glue-role\n",
      "Trying to create a Glue session for the kernel.\n",
      "Worker Type: G.2X\n",
      "Number of Workers: 10\n",
      "Session ID: d2834edc-85d2-4735-b622-347d1b9b65a5\n",
      "Job Type: glueetl\n",
      "Applying the following default arguments:\n",
      "--glue_kernel_version 0.37.2\n",
      "--session-language scala\n",
      "--enable-glue-datacatalog true\n",
      "--extra-jars s3://sftp-pipeline-bucket/lib/geomesa-fs-spark-runtime_2.12-3.5.0.jar\n",
      "--conf spark.serializer=org.apache.spark.serializer.KryoSerializer --conf spark.kryo.registrator=org.locationtech.geomesa.spark.GeoMesaSparkKryoRegistrator\n",
      "--enable-spark-ui true\n",
      "--spark-event-logs-path s3://sftp-pipeline-clean/sparkLogs\n",
      "Waiting for session d2834edc-85d2-4735-b622-347d1b9b65a5 to get into ready status...\n",
      "Session d2834edc-85d2-4735-b622-347d1b9b65a5 has been created\n",
      "\n",
      "import org.locationtech.geomesa.spark.jts._\n",
      "res0: org.apache.spark.sql.SparkSession = org.apache.spark.sql.SparkSession@40925f8c\n",
      "\n"
     ]
    }
   ],
   "source": [
    "import org.locationtech.geomesa.spark.jts._\n",
    "spark.withJTS"
   ]
  },
  {
   "cell_type": "code",
   "execution_count": 2,
   "id": "b9d549d7",
   "metadata": {},
   "outputs": [
    {
     "name": "stdout",
     "output_type": "stream",
     "text": [
      "planet: org.apache.spark.sql.DataFrame = [id: bigint, type: string ... 11 more fields]\n",
      "\n"
     ]
    }
   ],
   "source": [
    "val planet = spark.read.orc(\"s3://osm-pds/planet/planet-latest.orc\")"
   ]
  },
  {
   "cell_type": "code",
   "execution_count": 3,
   "id": "f64c637f",
   "metadata": {},
   "outputs": [
    {
     "name": "stdout",
     "output_type": "stream",
     "text": [
      "root\n",
      " |-- id: long (nullable = true)\n",
      " |-- type: string (nullable = true)\n",
      " |-- tags: map (nullable = true)\n",
      " |    |-- key: string\n",
      " |    |-- value: string (valueContainsNull = true)\n",
      " |-- lat: decimal(9,7) (nullable = true)\n",
      " |-- lon: decimal(10,7) (nullable = true)\n",
      " |-- nds: array (nullable = true)\n",
      " |    |-- element: struct (containsNull = true)\n",
      " |    |    |-- ref: long (nullable = true)\n",
      " |-- members: array (nullable = true)\n",
      " |    |-- element: struct (containsNull = true)\n",
      " |    |    |-- type: string (nullable = true)\n",
      " |    |    |-- ref: long (nullable = true)\n",
      " |    |    |-- role: string (nullable = true)\n",
      " |-- changeset: long (nullable = true)\n",
      " |-- timestamp: timestamp (nullable = true)\n",
      " |-- uid: long (nullable = true)\n",
      " |-- user: string (nullable = true)\n",
      " |-- version: long (nullable = true)\n",
      " |-- visible: boolean (nullable = true)\n",
      "\n",
      "\n"
     ]
    }
   ],
   "source": [
    "planet.printSchema()"
   ]
  },
  {
   "cell_type": "code",
   "execution_count": 4,
   "id": "20f624b6",
   "metadata": {},
   "outputs": [
    {
     "name": "stdout",
     "output_type": "stream",
     "text": [
      "+---+----+--------------------+-----------+-----------+---+-------+---------+-------------------+--------+------------------+-------+-------+\n",
      "| id|type|                tags|        lat|        lon|nds|members|changeset|          timestamp|     uid|              user|version|visible|\n",
      "+---+----+--------------------+-----------+-----------+---+-------+---------+-------------------+--------+------------------+-------+-------+\n",
      "|  1|node|{communication:mi...| 42.7957187| 13.5690032| []|     []|124176968|2022-07-28 09:47:39|   29598|             owene|     33|   true|\n",
      "|  2|node|{name -> Центр Кр...| 59.7717926| 30.3261100| []|     []|133444398|2023-03-08 14:57:22|18653914|Maison des Castors|     43|   true|\n",
      "|  3|node|{amenity -> kinde...|-34.8140751|-58.4899743| []|     []|124176968|2022-07-28 09:47:39|   29598|             owene|     13|   true|\n",
      "| 10|node|{alt_name -> Mama...| 14.2769353|-11.0519163| []|     []|124176968|2022-07-28 09:47:39|   29598|             owene|     14|   true|\n",
      "| 54|node|{admin_level -> 3...| 55.0288307| 82.9226887| []|     []|134674823|2023-04-09 06:06:41|  461130|          Fizzie41|     32|   true|\n",
      "| 69|node|   {natural -> tree}| 48.0672617| 12.8622237| []|     []|124176968|2022-07-28 09:47:39|   29598|             owene|     12|   true|\n",
      "|100|node|{description -> W...| 52.8916184| 10.8340913| []|     []|124176968|2022-07-28 09:47:39|   29598|             owene|     15|   true|\n",
      "|110|node|                  {}| 59.9499101| 10.7834150| []|     []|124176968|2022-07-28 09:47:39|   29598|             owene|      8|   true|\n",
      "|111|node|{name -> Impasse ...| 59.9475022| 10.7875238| []|     []|124176968|2022-07-28 09:47:39|   29598|             owene|     10|   true|\n",
      "|112|node|{barrier -> block...| 59.9515081| 10.7854259| []|     []|124176968|2022-07-28 09:47:39|   29598|             owene|     10|   true|\n",
      "|113|node|                  {}| 59.9487442| 10.7819317| []|     []|124176968|2022-07-28 09:47:39|   29598|             owene|      7|   true|\n",
      "|114|node|                  {}| 59.9506757| 10.7843390| []|     []|124176968|2022-07-28 09:47:39|   29598|             owene|      8|   true|\n",
      "|115|node|                  {}| 59.9510531| 10.7796921| []|     []|124176968|2022-07-28 09:47:39|   29598|             owene|      7|   true|\n",
      "|116|node|                  {}| 59.9525466| 10.7781722| []|     []|124176968|2022-07-28 09:47:39|   29598|             owene|      7|   true|\n",
      "|117|node|                  {}| 59.9515953| 10.7813416| []|     []|124176968|2022-07-28 09:47:39|   29598|             owene|      6|   true|\n",
      "|118|node|                  {}| 59.9515801| 10.7856298| []|     []|124176968|2022-07-28 09:47:39|   29598|             owene|      7|   true|\n",
      "|119|node|                  {}| 59.9511865| 10.7862779| []|     []|124176968|2022-07-28 09:47:39|   29598|             owene|      7|   true|\n",
      "|120|node|                  {}| 59.9509362| 10.7872615| []|     []|124176968|2022-07-28 09:47:39|   29598|             owene|      7|   true|\n",
      "|121|node|                  {}| 59.9506770| 10.7892711| []|     []|124176968|2022-07-28 09:47:39|   29598|             owene|     11|   true|\n",
      "|122|node|                  {}| 59.9504429| 10.7898343| []|     []|124176968|2022-07-28 09:47:39|   29598|             owene|      8|   true|\n",
      "+---+----+--------------------+-----------+-----------+---+-------+---------+-------------------+--------+------------------+-------+-------+\n",
      "only showing top 20 rows\n",
      "\n",
      "\n"
     ]
    }
   ],
   "source": [
    "planet.show()"
   ]
  },
  {
   "cell_type": "code",
   "execution_count": 12,
   "id": "8f13682f",
   "metadata": {},
   "outputs": [
    {
     "name": "stdout",
     "output_type": "stream",
     "text": [
      "nodes: org.apache.spark.sql.DataFrame = [node_id: bigint, geom: point]\n",
      "\n"
     ]
    }
   ],
   "source": [
    "val nodes = (\n",
    "  planet\n",
    "    .where(\n",
    "      $\"type\" === \"node\" &&\n",
    "      $\"lon\".between(-122.45, -122.25) &&\n",
    "      $\"lat\".between(47.5, 47.7)\n",
    "    )\n",
    "    .withColumn(\"geom\", st_makePoint($\"lon\", $\"lat\"))\n",
    "    .selectExpr(\"id as node_id\", \"geom\")\n",
    ")"
   ]
  },
  {
   "cell_type": "code",
   "execution_count": 6,
   "id": "66ccf130",
   "metadata": {},
   "outputs": [
    {
     "name": "stdout",
     "output_type": "stream",
     "text": [
      "root\n",
      " |-- node_id: long (nullable = true)\n",
      " |-- geom: point (nullable = true)\n",
      "\n",
      "\n"
     ]
    }
   ],
   "source": [
    "nodes.printSchema()"
   ]
  },
  {
   "cell_type": "code",
   "execution_count": 7,
   "id": "289d95bc",
   "metadata": {},
   "outputs": [
    {
     "name": "stdout",
     "output_type": "stream",
     "text": [
      "+--------+-------------------------------+\n",
      "|node_id |geom                           |\n",
      "+--------+-------------------------------+\n",
      "|29445653|POINT (-122.3196898 47.64248)  |\n",
      "|29445655|POINT (-122.3211311 47.6421717)|\n",
      "|29445656|POINT (-122.3218423 47.6417832)|\n",
      "|29445657|POINT (-122.3220413 47.6415965)|\n",
      "|29445659|POINT (-122.3221887 47.6414031)|\n",
      "|29445660|POINT (-122.322323 47.6411219) |\n",
      "|29445661|POINT (-122.3223635 47.64096)  |\n",
      "|29445662|POINT (-122.322506 47.6392676) |\n",
      "|29445663|POINT (-122.3226326 47.6385371)|\n",
      "|29447666|POINT (-122.3045716 47.6442165)|\n",
      "|29447667|POINT (-122.3052346 47.6440985)|\n",
      "|29447668|POINT (-122.3062284 47.6438864)|\n",
      "|29447670|POINT (-122.3089121 47.6433095)|\n",
      "|29449047|POINT (-122.2813041 47.6443495)|\n",
      "|29449048|POINT (-122.2780591 47.6438462)|\n",
      "|29449050|POINT (-122.2794678 47.6439584)|\n",
      "|29449412|POINT (-122.3166305 47.6429371)|\n",
      "|29449415|POINT (-122.3140945 47.6431403)|\n",
      "|29449419|POINT (-122.3105004 47.6432074)|\n",
      "|29449421|POINT (-122.3091586 47.643335) |\n",
      "+--------+-------------------------------+\n",
      "only showing top 20 rows\n",
      "\n",
      "\n"
     ]
    }
   ],
   "source": [
    "nodes.show(truncate=false)"
   ]
  },
  {
   "cell_type": "code",
   "execution_count": 8,
   "id": "cb65b87b",
   "metadata": {},
   "outputs": [
    {
     "name": "stdout",
     "output_type": "stream",
     "text": [
      "ways: org.apache.spark.sql.DataFrame = [way_id: bigint, way_tags: map<string,string> ... 2 more fields]\n",
      "\n"
     ]
    }
   ],
   "source": [
    "val ways = (\n",
    "  planet\n",
    "    .where($\"type\" === \"way\" && $\"tags.highway\".isNotNull)\n",
    "    .selectExpr(\"id as way_id\", \"tags as way_tags\", \"posexplode(nds.ref) as (idx, node_id)\")\n",
    ")"
   ]
  },
  {
   "cell_type": "code",
   "execution_count": 9,
   "id": "415957b9",
   "metadata": {},
   "outputs": [
    {
     "name": "stdout",
     "output_type": "stream",
     "text": [
      "root\n",
      " |-- way_id: long (nullable = true)\n",
      " |-- way_tags: map (nullable = true)\n",
      " |    |-- key: string\n",
      " |    |-- value: string (valueContainsNull = true)\n",
      " |-- idx: integer (nullable = false)\n",
      " |-- node_id: long (nullable = true)\n",
      "\n",
      "\n"
     ]
    }
   ],
   "source": [
    "ways.printSchema()"
   ]
  },
  {
   "cell_type": "code",
   "execution_count": 10,
   "id": "77a39d39",
   "metadata": {},
   "outputs": [
    {
     "name": "stdout",
     "output_type": "stream",
     "text": [
      "+------+----------------------------------------------------------------------------------------------------------------------------------------------------------------------------------------------------------------------------------+---+----------+\n",
      "|way_id|way_tags                                                                                                                                                                                                                          |idx|node_id   |\n",
      "+------+----------------------------------------------------------------------------------------------------------------------------------------------------------------------------------------------------------------------------------+---+----------+\n",
      "|37    |{abutters -> residential, gritting -> priority_3, highway -> residential, is_in -> Sutton Coldfield, maintenance -> gritting, maxspeed -> 30 mph, name -> Maney Hill Road, note -> gritting addition Oct 2010, postal_code -> B72}|0  |200511    |\n",
      "|37    |{abutters -> residential, gritting -> priority_3, highway -> residential, is_in -> Sutton Coldfield, maintenance -> gritting, maxspeed -> 30 mph, name -> Maney Hill Road, note -> gritting addition Oct 2010, postal_code -> B72}|1  |1025338193|\n",
      "|37    |{abutters -> residential, gritting -> priority_3, highway -> residential, is_in -> Sutton Coldfield, maintenance -> gritting, maxspeed -> 30 mph, name -> Maney Hill Road, note -> gritting addition Oct 2010, postal_code -> B72}|2  |177231081 |\n",
      "|37    |{abutters -> residential, gritting -> priority_3, highway -> residential, is_in -> Sutton Coldfield, maintenance -> gritting, maxspeed -> 30 mph, name -> Maney Hill Road, note -> gritting addition Oct 2010, postal_code -> B72}|3  |177081428 |\n",
      "|37    |{abutters -> residential, gritting -> priority_3, highway -> residential, is_in -> Sutton Coldfield, maintenance -> gritting, maxspeed -> 30 mph, name -> Maney Hill Road, note -> gritting addition Oct 2010, postal_code -> B72}|4  |1025338209|\n",
      "|37    |{abutters -> residential, gritting -> priority_3, highway -> residential, is_in -> Sutton Coldfield, maintenance -> gritting, maxspeed -> 30 mph, name -> Maney Hill Road, note -> gritting addition Oct 2010, postal_code -> B72}|5  |177081440 |\n",
      "|37    |{abutters -> residential, gritting -> priority_3, highway -> residential, is_in -> Sutton Coldfield, maintenance -> gritting, maxspeed -> 30 mph, name -> Maney Hill Road, note -> gritting addition Oct 2010, postal_code -> B72}|6  |200512    |\n",
      "|37    |{abutters -> residential, gritting -> priority_3, highway -> residential, is_in -> Sutton Coldfield, maintenance -> gritting, maxspeed -> 30 mph, name -> Maney Hill Road, note -> gritting addition Oct 2010, postal_code -> B72}|7  |1025338201|\n",
      "|37    |{abutters -> residential, gritting -> priority_3, highway -> residential, is_in -> Sutton Coldfield, maintenance -> gritting, maxspeed -> 30 mph, name -> Maney Hill Road, note -> gritting addition Oct 2010, postal_code -> B72}|8  |200514    |\n",
      "|37    |{abutters -> residential, gritting -> priority_3, highway -> residential, is_in -> Sutton Coldfield, maintenance -> gritting, maxspeed -> 30 mph, name -> Maney Hill Road, note -> gritting addition Oct 2010, postal_code -> B72}|9  |1025338210|\n",
      "|37    |{abutters -> residential, gritting -> priority_3, highway -> residential, is_in -> Sutton Coldfield, maintenance -> gritting, maxspeed -> 30 mph, name -> Maney Hill Road, note -> gritting addition Oct 2010, postal_code -> B72}|10 |200517    |\n",
      "|37    |{abutters -> residential, gritting -> priority_3, highway -> residential, is_in -> Sutton Coldfield, maintenance -> gritting, maxspeed -> 30 mph, name -> Maney Hill Road, note -> gritting addition Oct 2010, postal_code -> B72}|11 |1025338191|\n",
      "|37    |{abutters -> residential, gritting -> priority_3, highway -> residential, is_in -> Sutton Coldfield, maintenance -> gritting, maxspeed -> 30 mph, name -> Maney Hill Road, note -> gritting addition Oct 2010, postal_code -> B72}|12 |200515    |\n",
      "|37    |{abutters -> residential, gritting -> priority_3, highway -> residential, is_in -> Sutton Coldfield, maintenance -> gritting, maxspeed -> 30 mph, name -> Maney Hill Road, note -> gritting addition Oct 2010, postal_code -> B72}|13 |200526    |\n",
      "|37    |{abutters -> residential, gritting -> priority_3, highway -> residential, is_in -> Sutton Coldfield, maintenance -> gritting, maxspeed -> 30 mph, name -> Maney Hill Road, note -> gritting addition Oct 2010, postal_code -> B72}|14 |200527    |\n",
      "|37    |{abutters -> residential, gritting -> priority_3, highway -> residential, is_in -> Sutton Coldfield, maintenance -> gritting, maxspeed -> 30 mph, name -> Maney Hill Road, note -> gritting addition Oct 2010, postal_code -> B72}|15 |200528    |\n",
      "|37    |{abutters -> residential, gritting -> priority_3, highway -> residential, is_in -> Sutton Coldfield, maintenance -> gritting, maxspeed -> 30 mph, name -> Maney Hill Road, note -> gritting addition Oct 2010, postal_code -> B72}|16 |200530    |\n",
      "|37    |{abutters -> residential, gritting -> priority_3, highway -> residential, is_in -> Sutton Coldfield, maintenance -> gritting, maxspeed -> 30 mph, name -> Maney Hill Road, note -> gritting addition Oct 2010, postal_code -> B72}|17 |1082909509|\n",
      "|37    |{abutters -> residential, gritting -> priority_3, highway -> residential, is_in -> Sutton Coldfield, maintenance -> gritting, maxspeed -> 30 mph, name -> Maney Hill Road, note -> gritting addition Oct 2010, postal_code -> B72}|18 |1082909488|\n",
      "|37    |{abutters -> residential, gritting -> priority_3, highway -> residential, is_in -> Sutton Coldfield, maintenance -> gritting, maxspeed -> 30 mph, name -> Maney Hill Road, note -> gritting addition Oct 2010, postal_code -> B72}|19 |200532    |\n",
      "+------+----------------------------------------------------------------------------------------------------------------------------------------------------------------------------------------------------------------------------------+---+----------+\n",
      "only showing top 20 rows\n",
      "\n",
      "\n"
     ]
    }
   ],
   "source": [
    "ways.show(truncate=false)"
   ]
  },
  {
   "cell_type": "code",
   "execution_count": 11,
   "id": "771768b0",
   "metadata": {},
   "outputs": [
    {
     "name": "stdout",
     "output_type": "stream",
     "text": [
      "referencedWays: org.apache.spark.sql.DataFrame = [way_id: bigint, way_tags: map<string,string> ... 1 more field]\n",
      "\n"
     ]
    }
   ],
   "source": [
    "val referencedWays = (\n",
    "  ways\n",
    "    .join(nodes, Seq(\"node_id\"))\n",
    "    .groupBy(\"way_id\")\n",
    "    .agg(\n",
    "      first(\"way_tags\").as(\"way_tags\"),\n",
    "      transform(\n",
    "        array_sort(collect_list(struct(\"idx\", \"geom\"))),\n",
    "        (elem, _) => elem.getField(\"geom\")\n",
    "      ).as(\"geoms\")\n",
    "    )\n",
    "    .where(size($\"geoms\") >= 2)\n",
    "    .select($\"way_id\", $\"way_tags\", st_makeLine($\"geoms\").as(\"geom\"))\n",
    ")"
   ]
  },
  {
   "cell_type": "code",
   "execution_count": 13,
   "id": "d9a244c1",
   "metadata": {},
   "outputs": [
    {
     "name": "stdout",
     "output_type": "stream",
     "text": [
      "root\n",
      " |-- way_id: long (nullable = true)\n",
      " |-- way_tags: map (nullable = true)\n",
      " |    |-- key: string\n",
      " |    |-- value: string (valueContainsNull = true)\n",
      " |-- geom: linestring (nullable = true)\n",
      "\n",
      "\n"
     ]
    }
   ],
   "source": [
    "referencedWays.printSchema()"
   ]
  },
  {
   "cell_type": "code",
   "execution_count": 14,
   "id": "3f33d341",
   "metadata": {},
   "outputs": [
    {
     "name": "stdout",
     "output_type": "stream",
     "text": [
      "+-------+--------------------+--------------------+\n",
      "| way_id|            way_tags|                geom|\n",
      "+-------+--------------------+--------------------+\n",
      "|4708373|{bicycle -> dismo...|LINESTRING (-122....|\n",
      "|4732918|{bicycle -> desig...|LINESTRING (-122....|\n",
      "|4921074|{highway -> uncla...|LINESTRING (-122....|\n",
      "|6338129|{highway -> resid...|LINESTRING (-122....|\n",
      "|6342970|{highway -> resid...|LINESTRING (-122....|\n",
      "|6343890|{highway -> terti...|LINESTRING (-122....|\n",
      "|6344404|{highway -> resid...|LINESTRING (-122....|\n",
      "|6344882|{bicycle -> yes, ...|LINESTRING (-122....|\n",
      "|6345441|{highway -> resid...|LINESTRING (-122....|\n",
      "|6350677|{highway -> uncla...|LINESTRING (-122....|\n",
      "|6356227|{highway -> resid...|LINESTRING (-122....|\n",
      "|6358495|{highway -> resid...|LINESTRING (-122....|\n",
      "|6358779|{highway -> resid...|LINESTRING (-122....|\n",
      "|6376702|{highway -> resid...|LINESTRING (-122....|\n",
      "|6379160|{highway -> resid...|LINESTRING (-122....|\n",
      "|6380768|{highway -> resid...|LINESTRING (-122....|\n",
      "|6383297|{highway -> resid...|LINESTRING (-122....|\n",
      "|6396775|{highway -> resid...|LINESTRING (-122....|\n",
      "|6399189|{access -> privat...|LINESTRING (-122....|\n",
      "|6413333|{highway -> resid...|LINESTRING (-122....|\n",
      "+-------+--------------------+--------------------+\n",
      "only showing top 20 rows\n",
      "\n",
      "\n"
     ]
    }
   ],
   "source": [
    "referencedWays.show()"
   ]
  },
  {
   "cell_type": "code",
   "execution_count": 35,
   "id": "8be49d5f",
   "metadata": {},
   "outputs": [
    {
     "name": "stdout",
     "output_type": "stream",
     "text": [
      "Stopping session: 63f16f54-3209-4ade-8533-22e253102272\n",
      "Stopped session.\n"
     ]
    }
   ],
   "source": [
    "%stop_session"
   ]
  },
  {
   "cell_type": "code",
   "execution_count": null,
   "id": "c1b26332",
   "metadata": {},
   "outputs": [],
   "source": []
  }
 ],
 "metadata": {
  "kernelspec": {
   "display_name": "Glue Spark",
   "language": "scala",
   "name": "glue_spark"
  },
  "language_info": {
   "codemirror_mode": "text/x-scala",
   "mimetype": "text/x-scala",
   "name": "scala",
   "pygments_lexer": "scala"
  }
 },
 "nbformat": 4,
 "nbformat_minor": 5
}
